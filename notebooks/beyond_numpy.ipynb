{
 "cells": [
  {
   "cell_type": "markdown",
   "metadata": {},
   "source": [
    "## Beyond numpy\n",
    "Some calculation cannot be efficienclty performed with numpy\n",
    "* numpy need a lot of memory\n",
    "* Operation not implemented\n",
    "\n",
    "Example : \n",
    "* Calculer $\\pi$ (avec une formule très très lente!!!)\n",
    "$$ \\frac\\pi4 = \\sum_i \\frac{(-1)^i}{2i+1} = 1 - \\frac13 + \\frac 15 - \\frac17 + \\ldots $$\n",
    "\n",
    "* Operation similar to cumsum\n",
    "$$ y_n = f(y_{n-1}, x_n) $$"
   ]
  },
  {
   "cell_type": "code",
   "execution_count": 1,
   "metadata": {
    "collapsed": false
   },
   "outputs": [
    {
     "name": "stdout",
     "output_type": "stream",
     "text": [
      "10 loops, best of 3: 173 ms per loop\n",
      "10 loops, best of 3: 30.8 ms per loop\n"
     ]
    },
    {
     "data": {
      "text/plain": [
       "3.1415916535897939"
      ]
     },
     "execution_count": 1,
     "metadata": {},
     "output_type": "execute_result"
    }
   ],
   "source": [
    "from numpy import arange, sum\n",
    "N = 1000000\n",
    "# Implementation in pure python\n",
    "def calc_pi_python(N):\n",
    "    out = 0\n",
    "    sgn = 1\n",
    "    for i in range(N):\n",
    "        out += sgn/(2*i+1)\n",
    "        sgn = -sgn\n",
    "    return 4*out\n",
    "\n",
    "%timeit calc_pi_python(N)\n",
    "\n",
    "# numpy\n",
    "def calc_pi_numpy(N):\n",
    "    i = arange(N)\n",
    "    tmp = 1-2*(i%2)\n",
    "    return 4*sum(tmp/(2*i+1))\n",
    "%timeit calc_pi_numpy(N)\n",
    "calc_pi_numpy(N)"
   ]
  },
  {
   "cell_type": "markdown",
   "metadata": {},
   "source": [
    "## ctypes\n",
    "* Interface between python and shared library (dll, so)\n",
    "* Accelerate your code (this method is not recommended)\n",
    "* Use existing code !!!\n",
    "* Use closed source library\n",
    "\n",
    "No magic : you have to know C and deal with pointer, memory allocation, ..."
   ]
  },
  {
   "cell_type": "raw",
   "metadata": {},
   "source": [
    "#include <stdio.h>\n",
    "#include <stdlib.h>\n",
    "\n",
    "int calc_pi(int N, double * out){\n",
    "    int i;\n",
    "    double sgn = 1;\n",
    "    *out = 0;\n",
    "    for(i=0; i<N; i++){\n",
    "        *out += sgn/(2*i+1);\n",
    "        sgn = -sgn;\n",
    "        }\n",
    "    }\n",
    "\n",
    "// gcc -shared -o libpi.so -fPIC pi.c  -Wno-pointer-to-int-cast"
   ]
  },
  {
   "cell_type": "code",
   "execution_count": 4,
   "metadata": {
    "collapsed": false
   },
   "outputs": [
    {
     "name": "stdout",
     "output_type": "stream",
     "text": [
      "100 loops, best of 3: 4.15 ms per loop\n"
     ]
    }
   ],
   "source": [
    "import ctypes\n",
    "lib = ctypes.cdll.LoadLibrary('../calc_pi/libpi.so')\n",
    "\n",
    "# Raw function\n",
    "_calc_pi = lib.calc_pi\n",
    "\n",
    "# Wrapper to be python friendly\n",
    "def calc_pi_ctypes(N):\n",
    "    out = ctypes.c_double(0)\n",
    "    _calc_pi(N, ctypes.byref(out))\n",
    "    return out.value*4\n",
    "\n",
    "%timeit calc_pi_ctypes(N)"
   ]
  },
  {
   "cell_type": "markdown",
   "metadata": {},
   "source": [
    "## Numba \n",
    "Compile your python code for free"
   ]
  },
  {
   "cell_type": "code",
   "execution_count": 15,
   "metadata": {
    "collapsed": false
   },
   "outputs": [],
   "source": [
    "import numba\n",
    "\n",
    "def calc_pi_python(N):\n",
    "    out = 0.\n",
    "    sgn = 1\n",
    "    for i in range(N):\n",
    "        out =out + sgn/(2*i+1)\n",
    "        sgn = -sgn\n",
    "    return 4*out\n",
    "\n",
    "calc_pi_numba = numba.jit(numba.float64(numba.int32))(calc_pi_python)\n"
   ]
  },
  {
   "cell_type": "code",
   "execution_count": 16,
   "metadata": {
    "collapsed": false
   },
   "outputs": [
    {
     "name": "stdout",
     "output_type": "stream",
     "text": [
      "100 loops, best of 3: 8.46 ms per loop\n"
     ]
    }
   ],
   "source": [
    "%timeit calc_pi_numba(N)"
   ]
  },
  {
   "cell_type": "code",
   "execution_count": 19,
   "metadata": {
    "collapsed": true
   },
   "outputs": [],
   "source": [
    "from numpy import sin\n",
    "from numpy.random import rand\n",
    "a = rand(10000000)"
   ]
  },
  {
   "cell_type": "code",
   "execution_count": 20,
   "metadata": {
    "collapsed": false
   },
   "outputs": [
    {
     "name": "stdout",
     "output_type": "stream",
     "text": [
      "1 loop, best of 3: 345 ms per loop\n"
     ]
    }
   ],
   "source": [
    "%timeit b = sin(a)*a + a**2 + 1/a"
   ]
  },
  {
   "cell_type": "code",
   "execution_count": 25,
   "metadata": {
    "collapsed": false
   },
   "outputs": [
    {
     "data": {
      "text/plain": [
       "array([ 2.35887454,  2.44498856,  3.10254861, ...,  2.36514506,\n",
       "        5.13323677,  2.77822627])"
      ]
     },
     "execution_count": 25,
     "metadata": {},
     "output_type": "execute_result"
    }
   ],
   "source": [
    "import numpy\n",
    "@numba.vectorize\n",
    "def my_function(a):\n",
    "    return sin(a)*a + a**2 + 1/a\n",
    "\n",
    "my_function(a)"
   ]
  },
  {
   "cell_type": "code",
   "execution_count": 26,
   "metadata": {
    "collapsed": false
   },
   "outputs": [
    {
     "name": "stdout",
     "output_type": "stream",
     "text": [
      "1 loop, best of 3: 200 ms per loop\n"
     ]
    }
   ],
   "source": [
    "%timeit my_function(a)"
   ]
  },
  {
   "cell_type": "code",
   "execution_count": null,
   "metadata": {
    "collapsed": true
   },
   "outputs": [],
   "source": []
  }
 ],
 "metadata": {
  "anaconda-cloud": {},
  "kernelspec": {
   "display_name": "Python [conda root]",
   "language": "python",
   "name": "conda-root-py"
  },
  "language_info": {
   "codemirror_mode": {
    "name": "ipython",
    "version": 3
   },
   "file_extension": ".py",
   "mimetype": "text/x-python",
   "name": "python",
   "nbconvert_exporter": "python",
   "pygments_lexer": "ipython3",
   "version": "3.5.2"
  }
 },
 "nbformat": 4,
 "nbformat_minor": 0
}
