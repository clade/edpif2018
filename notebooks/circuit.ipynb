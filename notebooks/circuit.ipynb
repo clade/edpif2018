{
 "cells": [
  {
   "cell_type": "code",
   "execution_count": 4,
   "metadata": {
    "collapsed": true
   },
   "outputs": [],
   "source": [
    "import numpy as np"
   ]
  },
  {
   "cell_type": "code",
   "execution_count": 22,
   "metadata": {
    "collapsed": true
   },
   "outputs": [],
   "source": [
    "class BipolarCircuit(object):\n",
    "    def __add__(self, other):\n",
    "        return Serial(self, other)\n",
    "\n",
    "class Combination(BipolarCircuit):\n",
    "    def __init__(self, *args):\n",
    "        list_of_circuit = []\n",
    "        for elm in args:\n",
    "            if isinstance(elm, self.__class__):\n",
    "                list_of_circuit.extend(elm.list_of_circuit)\n",
    "            else:\n",
    "                list_of_circuit.append(elm)\n",
    "        self.list_of_circuit = list_of_circuit\n",
    "\n",
    "    def __repr__(self):\n",
    "        s = ', '.join([repr(elm) for elm in self.list_of_circuit])\n",
    "        return '{}({})'.format(self.__class__.__name__, s)        \n",
    "        \n",
    "class Serial(Combination):\n",
    "    def impedance(self, freq):\n",
    "        list_of_impedance = [elm.impedance(freq) \n",
    "                             for elm in self.list_of_circuit]\n",
    "        return sum(list_of_impedance)\n",
    "\n",
    "        \n",
    "# idem for parallel\n",
    "\n",
    "\n",
    "class Device(BipolarCircuit):\n",
    "    pass\n",
    "    \n",
    "class Resistor(Device):\n",
    "    def __init__(self, resistance):\n",
    "        self.resistance = resistance\n",
    "        \n",
    "    def impedance(self, freq):\n",
    "        return self.resistance\n",
    "    \n",
    "    def __repr__(self):\n",
    "        return \"Resistor({})\".format(self.resistance)\n",
    "    \n",
    "class Capacitor(Device):\n",
    "    def __init__(self, capacity):\n",
    "        self.capacity = capacity\n",
    "        \n",
    "    def impedance(self, freq):\n",
    "        return 1/(2J*np.pi*self.capacity*freq)\n",
    "\n",
    "    def __repr__(self):\n",
    "        return \"Capacitor({})\".format(self.capacity)    \n",
    "    \n",
    "class Inductor(Device):\n",
    "    def __init__(self, inductance):\n",
    "        self.inductance = inductance\n",
    "        \n",
    "    def impedance(self, freq):\n",
    "        return (2J*np.pi*self.inductance*freq) \n",
    "    \n",
    "    def __repr__(self):\n",
    "        return \"Inductor({})\".format(self.inductance)         "
   ]
  },
  {
   "cell_type": "code",
   "execution_count": 23,
   "metadata": {
    "collapsed": false
   },
   "outputs": [
    {
     "data": {
      "text/plain": [
       "Serial(Resistor(10), Capacitor(1e-05))"
      ]
     },
     "execution_count": 23,
     "metadata": {},
     "output_type": "execute_result"
    }
   ],
   "source": [
    "R1 = Resistor(10)\n",
    "R1.impedance(freq=100) \n",
    "\n",
    "C1 = Capacitor(10E-6)\n",
    "C1.impedance(100) \n",
    "\n",
    "circ = Serial(R1, C1)\n",
    "circ.impedance(np.logspace(2, 4))\n",
    "\n",
    "\n",
    "# R1 + C1\n",
    "# __add__"
   ]
  },
  {
   "cell_type": "code",
   "execution_count": 24,
   "metadata": {
    "collapsed": false
   },
   "outputs": [
    {
     "data": {
      "text/plain": [
       "Serial(Resistor(10), Capacitor(1e-05), Resistor(10), Capacitor(1e-05))"
      ]
     },
     "execution_count": 24,
     "metadata": {},
     "output_type": "execute_result"
    }
   ],
   "source": [
    "Serial(R1, C1, Serial(R1, C1))"
   ]
  },
  {
   "cell_type": "code",
   "execution_count": null,
   "metadata": {
    "collapsed": false
   },
   "outputs": [],
   "source": []
  },
  {
   "cell_type": "code",
   "execution_count": null,
   "metadata": {
    "collapsed": true
   },
   "outputs": [],
   "source": []
  }
 ],
 "metadata": {
  "anaconda-cloud": {},
  "kernelspec": {
   "display_name": "Python [conda root]",
   "language": "python",
   "name": "conda-root-py"
  },
  "language_info": {
   "codemirror_mode": {
    "name": "ipython",
    "version": 3
   },
   "file_extension": ".py",
   "mimetype": "text/x-python",
   "name": "python",
   "nbconvert_exporter": "python",
   "pygments_lexer": "ipython3",
   "version": "3.5.2"
  }
 },
 "nbformat": 4,
 "nbformat_minor": 1
}
