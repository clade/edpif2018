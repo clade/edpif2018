{
 "cells": [
  {
   "cell_type": "code",
   "execution_count": 1,
   "metadata": {
    "collapsed": true
   },
   "outputs": [],
   "source": [
    "z = 1 + 2J"
   ]
  },
  {
   "cell_type": "code",
   "execution_count": 2,
   "metadata": {
    "collapsed": false
   },
   "outputs": [
    {
     "data": {
      "text/plain": [
       "1.0"
      ]
     },
     "execution_count": 2,
     "metadata": {},
     "output_type": "execute_result"
    }
   ],
   "source": [
    "z.real"
   ]
  },
  {
   "cell_type": "code",
   "execution_count": 3,
   "metadata": {
    "collapsed": false
   },
   "outputs": [
    {
     "data": {
      "text/plain": [
       "2.0"
      ]
     },
     "execution_count": 3,
     "metadata": {},
     "output_type": "execute_result"
    }
   ],
   "source": [
    "z.imag"
   ]
  },
  {
   "cell_type": "code",
   "execution_count": 4,
   "metadata": {
    "collapsed": false
   },
   "outputs": [
    {
     "data": {
      "text/plain": [
       "1.0"
      ]
     },
     "execution_count": 4,
     "metadata": {},
     "output_type": "execute_result"
    }
   ],
   "source": [
    "(1 + 2J).real"
   ]
  },
  {
   "cell_type": "code",
   "execution_count": 5,
   "metadata": {
    "collapsed": false
   },
   "outputs": [
    {
     "data": {
      "text/plain": [
       "(1-2j)"
      ]
     },
     "execution_count": 5,
     "metadata": {},
     "output_type": "execute_result"
    }
   ],
   "source": [
    "z.conjugate()"
   ]
  },
  {
   "cell_type": "code",
   "execution_count": 6,
   "metadata": {
    "collapsed": false
   },
   "outputs": [
    {
     "data": {
      "text/plain": [
       "int"
      ]
     },
     "execution_count": 6,
     "metadata": {},
     "output_type": "execute_result"
    }
   ],
   "source": [
    "type(2)"
   ]
  },
  {
   "cell_type": "code",
   "execution_count": 7,
   "metadata": {
    "collapsed": false
   },
   "outputs": [
    {
     "data": {
      "text/plain": [
       "complex"
      ]
     },
     "execution_count": 7,
     "metadata": {},
     "output_type": "execute_result"
    }
   ],
   "source": [
    "type(z)"
   ]
  },
  {
   "cell_type": "code",
   "execution_count": 10,
   "metadata": {
    "collapsed": false
   },
   "outputs": [
    {
     "data": {
      "text/plain": [
       "False"
      ]
     },
     "execution_count": 10,
     "metadata": {},
     "output_type": "execute_result"
    }
   ],
   "source": [
    "isinstance(2, complex)"
   ]
  },
  {
   "cell_type": "code",
   "execution_count": 121,
   "metadata": {
    "collapsed": true
   },
   "outputs": [],
   "source": [
    "import numbers\n",
    "\n",
    "class Complex(object):\n",
    "#    list_of_all_created_complex_numbers = []\n",
    "    def __init__(self, real_part, imag_part):\n",
    "        self.re = real_part\n",
    "        self.ima = imag_part\n",
    "#        self.list_of_all_created_complex_numbers.append(self)\n",
    "        \n",
    "    def conjugate(self):\n",
    "        return Complex(self.re, -z.ima)\n",
    "    \n",
    "    def multiplication_by_scalar(self, scalar):\n",
    "        return Complex(self.re*scalar, self.ima*scalar)\n",
    "    \n",
    "    def __str__(self):\n",
    "        if self.ima>0:\n",
    "            return \"{} + {}J\".format(self.re, self.ima)\n",
    "        elif self.ima<0:\n",
    "            return \"{} - {}J\".format(self.re, -self.ima)\n",
    "        else:\n",
    "            return \"{}\".format(self.re)\n",
    "        \n",
    "    def __repr__(self):\n",
    "        return 'Complex({}, {})'.format(self.re, self.ima)\n",
    "    \n",
    "    def __add__(self, other):\n",
    "        if isinstance(other, numbers.Real):\n",
    "            return Complex(self.re+other, self.ima+other)\n",
    "        if isinstance(other, Complex):\n",
    "            return Complex(self.re+other.re, self.ima+other.ima)\n",
    "        return NotImplemented\n",
    "    def __radd__(self, other):\n",
    "        return self + other\n",
    "    \n",
    "    def __invert__(self):\n",
    "        return self.conjugate()\n",
    "    \n",
    "class PureImaginary(Complex):\n",
    "    def __init__(self, imaginary_part):\n",
    "        Complex.__init__(self, 0, imaginary_part)\n",
    "        \n",
    "    def __repr__(self):\n",
    "        return 'PureImaginary({})'.format(self.ima)        "
   ]
  },
  {
   "cell_type": "code",
   "execution_count": 116,
   "metadata": {
    "collapsed": false
   },
   "outputs": [
    {
     "data": {
      "text/plain": [
       "Complex(3.5, 5.0)"
      ]
     },
     "execution_count": 116,
     "metadata": {},
     "output_type": "execute_result"
    }
   ],
   "source": [
    "z1 = Complex(1, 2.5)\n",
    "z2 = Complex(1.5, -0.5)\n",
    "z1 + 2.5\n",
    "2.5 + z1\n",
    "#z1.__add__(z2)"
   ]
  },
  {
   "cell_type": "code",
   "execution_count": 117,
   "metadata": {
    "collapsed": false
   },
   "outputs": [
    {
     "name": "stdout",
     "output_type": "stream",
     "text": [
      "1 -2.5\n"
     ]
    }
   ],
   "source": [
    "z = Complex(1, 2.5)\n",
    "a = (z.conjugate)()\n",
    "#z.multiplication_by_scalar(1.54787)\n",
    "print(a.re, a.ima)"
   ]
  },
  {
   "cell_type": "code",
   "execution_count": 118,
   "metadata": {
    "collapsed": false
   },
   "outputs": [
    {
     "name": "stdout",
     "output_type": "stream",
     "text": [
      "1 - 2.5J\n"
     ]
    }
   ],
   "source": [
    "print(~z)"
   ]
  },
  {
   "cell_type": "code",
   "execution_count": 120,
   "metadata": {
    "collapsed": false
   },
   "outputs": [
    {
     "data": {
      "text/plain": [
       "'PureImaginary(3.4)'"
      ]
     },
     "execution_count": 120,
     "metadata": {},
     "output_type": "execute_result"
    }
   ],
   "source": [
    "z = PureImaginary(3.4)\n",
    "isinstance(z, Complex)\n",
    "repr(z)"
   ]
  },
  {
   "cell_type": "code",
   "execution_count": 57,
   "metadata": {
    "collapsed": false
   },
   "outputs": [
    {
     "data": {
      "text/plain": [
       "True"
      ]
     },
     "execution_count": 57,
     "metadata": {},
     "output_type": "execute_result"
    }
   ],
   "source": [
    "#def my_getattr(obj, name):\n",
    "#    if obj has attribute name:\n",
    "#        return obj.name\n",
    "#    else if type(obj) has attribute name:\n",
    "#        att = type(obj).name\n",
    "#        if att is a function:\n",
    "#            def method(*args, **kwd):\n",
    "#                return att(obj, *args, **kwd)\n",
    "#            return method\n",
    "#        else:\n",
    "#            return att"
   ]
  },
  {
   "cell_type": "code",
   "execution_count": 58,
   "metadata": {
    "collapsed": false
   },
   "outputs": [
    {
     "data": {
      "text/plain": [
       "21540920"
      ]
     },
     "execution_count": 58,
     "metadata": {},
     "output_type": "execute_result"
    }
   ],
   "source": [
    "id(type(z))"
   ]
  },
  {
   "cell_type": "code",
   "execution_count": 53,
   "metadata": {
    "collapsed": false
   },
   "outputs": [
    {
     "data": {
      "text/plain": [
       "21540920"
      ]
     },
     "execution_count": 53,
     "metadata": {},
     "output_type": "execute_result"
    }
   ],
   "source": [
    "id(Complex)"
   ]
  },
  {
   "cell_type": "code",
   "execution_count": null,
   "metadata": {
    "collapsed": false
   },
   "outputs": [],
   "source": []
  },
  {
   "cell_type": "code",
   "execution_count": null,
   "metadata": {
    "collapsed": true
   },
   "outputs": [],
   "source": []
  }
 ],
 "metadata": {
  "anaconda-cloud": {},
  "kernelspec": {
   "display_name": "Python [conda root]",
   "language": "python",
   "name": "conda-root-py"
  },
  "language_info": {
   "codemirror_mode": {
    "name": "ipython",
    "version": 3
   },
   "file_extension": ".py",
   "mimetype": "text/x-python",
   "name": "python",
   "nbconvert_exporter": "python",
   "pygments_lexer": "ipython3",
   "version": "3.5.2"
  }
 },
 "nbformat": 4,
 "nbformat_minor": 1
}
