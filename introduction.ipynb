{
 "cells": [
  {
   "cell_type": "markdown",
   "metadata": {},
   "source": [
    "The Python language\n",
    "==================\n",
    "\n",
    "- Python is an interpreted language (by opposition to a compiled language like C or Fortran)\n",
    "\n",
    "- Interpreted language are easier to use than compile language but slower. This is not a problem for scientific calculation because complex algorithms are programmed in C or Fortran. \n",
    "\n",
    "- There are two versions of Python, the version 2 (currently 2.7) and the version 3 (currently 3.7). There are small differences in the syntax. We are using the 2.7 version. This is still the version installed by default on Linux. \n",
    "\n",
    "- We strongly advise to install the Anaconda distribution ``https://www.anaconda.com/download/``. This distribution was build for scientific calculation. It is available for different platforms (Linux, Mac or Windows). \n"
   ]
  },
  {
   "cell_type": "code",
   "execution_count": 9,
   "metadata": {
    "collapsed": false
   },
   "outputs": [
    {
     "name": "stdout",
     "output_type": "stream",
     "text": [
      "23.103865905895475\n"
     ]
    }
   ],
   "source": [
    "x = 3.14\n",
    "epsilon = 1E-6\n",
    "result = 0\n",
    "n = 1\n",
    "term = 1 # Initial value\n",
    "while abs(term)>epsilon :\n",
    "    result = result + term\n",
    "    term  = term * x/n\n",
    "    n = n+1\n",
    "print(result)"
   ]
  },
  {
   "cell_type": "code",
   "execution_count": 12,
   "metadata": {
    "collapsed": false
   },
   "outputs": [
    {
     "name": "stdout",
     "output_type": "stream",
     "text": [
      "16\n"
     ]
    },
    {
     "data": {
      "text/plain": [
       "0.5"
      ]
     },
     "execution_count": 12,
     "metadata": {},
     "output_type": "execute_result"
    }
   ],
   "source": [
    "a = 1 + 2+ 8 + \\\n",
    "        5\n",
    "print(a)\n",
    "1/2"
   ]
  },
  {
   "cell_type": "markdown",
   "metadata": {},
   "source": [
    "How to execute Python code\n",
    "==========================\n"
   ]
  },
  {
   "cell_type": "code",
   "execution_count": null,
   "metadata": {
    "collapsed": true
   },
   "outputs": [],
   "source": []
  },
  {
   "cell_type": "markdown",
   "metadata": {},
   "source": [
    "Variable in Python\n",
    "=================="
   ]
  },
  {
   "cell_type": "code",
   "execution_count": 20,
   "metadata": {
    "collapsed": false
   },
   "outputs": [
    {
     "data": {
      "text/plain": [
       "1"
      ]
     },
     "execution_count": 20,
     "metadata": {},
     "output_type": "execute_result"
    }
   ],
   "source": [
    "a = 1\n",
    "_this_variable132345 = 15\n",
    "#1a = 2\n",
    "#1e2 = 4\n",
    "A = 2\n",
    "a"
   ]
  },
  {
   "cell_type": "markdown",
   "metadata": {},
   "source": [
    "Functions\n",
    "========="
   ]
  },
  {
   "cell_type": "code",
   "execution_count": 39,
   "metadata": {
    "collapsed": true
   },
   "outputs": [],
   "source": [
    "def exp(x, epsilon=1E-6):\n",
    "    \"\"\" calculate e to the power x \n",
    "    \n",
    "    Use the finite expansion to calculate e^x\n",
    "    \n",
    "    input:\n",
    "        x (number)\n",
    "        epsilon (number): precision of the calculation\n",
    "        \n",
    "    returns:\n",
    "        e^x :float\n",
    "    \"\"\"\n",
    "    result = 0\n",
    "    n = 1\n",
    "    term = 1 # Initial value\n",
    "    while abs(term)>epsilon :\n",
    "        result = result + term\n",
    "        term  = term * x/n\n",
    "        n = n+1\n",
    "    return 2*result"
   ]
  },
  {
   "cell_type": "code",
   "execution_count": 40,
   "metadata": {
    "collapsed": false
   },
   "outputs": [
    {
     "name": "stdout",
     "output_type": "stream",
     "text": [
      "10.873127313787037\n"
     ]
    }
   ],
   "source": [
    "exp(1)\n",
    "exp(1, 1E-10)\n",
    "a = 2*exp(1, epsilon=1e-10)\n",
    "print(a)"
   ]
  },
  {
   "cell_type": "code",
   "execution_count": 36,
   "metadata": {
    "collapsed": true
   },
   "outputs": [],
   "source": [
    "print?"
   ]
  },
  {
   "cell_type": "markdown",
   "metadata": {},
   "source": [
    "Data types in Python\n",
    "====================\n",
    "\n",
    "Numbers\n",
    "-------\n"
   ]
  },
  {
   "cell_type": "code",
   "execution_count": 50,
   "metadata": {
    "collapsed": false
   },
   "outputs": [
    {
     "data": {
      "text/plain": [
       "1.5"
      ]
     },
     "execution_count": 50,
     "metadata": {},
     "output_type": "execute_result"
    }
   ],
   "source": [
    "2**300\n",
    "(1. + 0.0000000000000001) - 1\n",
    "z = 1+1.5J\n",
    "z.real\n",
    "z.imag"
   ]
  },
  {
   "cell_type": "markdown",
   "metadata": {},
   "source": [
    "Boolean and comparison\n",
    "----------------------\n"
   ]
  },
  {
   "cell_type": "code",
   "execution_count": 57,
   "metadata": {
    "collapsed": false
   },
   "outputs": [
    {
     "data": {
      "text/plain": [
       "True"
      ]
     },
     "execution_count": 57,
     "metadata": {},
     "output_type": "execute_result"
    }
   ],
   "source": [
    "True, False\n",
    "\n",
    "1>2, 1>=2, 1!=2, 1==3\n",
    "\n",
    "True or False, not True, True and False\n",
    "True|False"
   ]
  },
  {
   "cell_type": "code",
   "execution_count": 59,
   "metadata": {
    "collapsed": false
   },
   "outputs": [
    {
     "name": "stdout",
     "output_type": "stream",
     "text": [
      "True\n"
     ]
    }
   ],
   "source": [
    "print(7== (4|3) ==7)"
   ]
  },
  {
   "cell_type": "code",
   "execution_count": 62,
   "metadata": {
    "collapsed": false
   },
   "outputs": [],
   "source": [
    "from math import log\n",
    "x = -1\n",
    "#if (x>0) & (log(x)>4):\n",
    "#    print(\"Hello\")\n",
    "if x>0 and log(x)>4:\n",
    "    print(\"Hello\")"
   ]
  },
  {
   "cell_type": "markdown",
   "metadata": {},
   "source": [
    "Strings\n",
    "-------"
   ]
  },
  {
   "cell_type": "code",
   "execution_count": 67,
   "metadata": {
    "collapsed": false
   },
   "outputs": [
    {
     "name": "stdout",
     "output_type": "stream",
     "text": [
      "Hello\n",
      "\"What time is it ?\" \n",
      " \"Peter's dog\n"
     ]
    }
   ],
   "source": [
    "s = \"Peter\"\n",
    "s = 'Peter'\n",
    "s = \"Peter's dog\"\n",
    "s = \"\"\"Hello\n",
    "\"What time is it ?\" \"\"\" \n",
    "print(s)\n",
    "\n",
    "s = \" \\\"Peter's dog\"\n",
    "print(s)\n",
    "\n",
    "\n"
   ]
  },
  {
   "cell_type": "code",
   "execution_count": 69,
   "metadata": {
    "collapsed": false
   },
   "outputs": [
    {
     "data": {
      "text/plain": [
       "'hahahahahahahahahaha'"
      ]
     },
     "execution_count": 69,
     "metadata": {},
     "output_type": "execute_result"
    }
   ],
   "source": [
    "s + 'blabla'\n",
    "10*\"ha\""
   ]
  },
  {
   "cell_type": "code",
   "execution_count": 72,
   "metadata": {
    "collapsed": false
   },
   "outputs": [
    {
     "name": "stdout",
     "output_type": "stream",
     "text": [
      "It's 15:30\n"
     ]
    }
   ],
   "source": [
    "\n",
    "hour = 15\n",
    "minute = 30\n",
    "s = \"It's {h}:{mn}\".format(h=hour, mn=minute)\n",
    "# str.format(\"It's {h}:{mn}\", h=hour, mn=minute)\n",
    "print(s)"
   ]
  },
  {
   "cell_type": "code",
   "execution_count": null,
   "metadata": {
    "collapsed": true
   },
   "outputs": [],
   "source": [
    "from math import pi\n",
    "print('{0:.5f}'.format(pi)) # '3.14159'\n",
    "c = 299792458. # Speed of light in m/s\n",
    "print('c = {0:.3e} m/s'.format(c)) # '2.998e+08'"
   ]
  },
  {
   "cell_type": "code",
   "execution_count": 81,
   "metadata": {
    "collapsed": false
   },
   "outputs": [
    {
     "data": {
      "text/plain": [
       "'bonjour'"
      ]
     },
     "execution_count": 81,
     "metadata": {},
     "output_type": "execute_result"
    }
   ],
   "source": [
    "s = \"bonjour\"\n",
    "t = s.center(30)\n",
    "t.strip()"
   ]
  },
  {
   "cell_type": "code",
   "execution_count": 84,
   "metadata": {
    "collapsed": false
   },
   "outputs": [
    {
     "data": {
      "text/plain": [
       "'1 and 2 and 3 and 4 and 5'"
      ]
     },
     "execution_count": 84,
     "metadata": {},
     "output_type": "execute_result"
    }
   ],
   "source": [
    "s = \"1,2,3,4,5\"\n",
    "the_list = s.split(',')\n",
    "' and '.join(the_list)\n"
   ]
  },
  {
   "cell_type": "markdown",
   "metadata": {},
   "source": [
    "Common methods on string are already implemented\n",
    "\n",
    "* split\n",
    "* strip\n",
    "* join\n",
    "* startswith, endswith\n",
    "* lower(), upper()\n",
    "* comparison (alphabetic order) : 'Peter'>'John' is True.\n"
   ]
  },
  {
   "cell_type": "code",
   "execution_count": 85,
   "metadata": {
    "collapsed": false
   },
   "outputs": [
    {
     "name": "stdout",
     "output_type": "stream",
     "text": [
      "The sentence contains 7 different words\n",
      "The words are Where and Brian and is and the and in and kitchen. and Brian?.\n",
      "The word Brian is in the sentence\n"
     ]
    }
   ],
   "source": [
    "s = \"  Where is Brian? Brian is in the kitchen.   \\r\\n\"\n",
    "s = s.strip() # string with leading and trailing whitespaces characters removed\n",
    "word_list = s.split() # list containing the words\n",
    "word_set = set(word_list)\n",
    "print(\"The sentence contains {0} different words\".format(len(word_set)))\n",
    "print(\"The words are {0}.\".format(' and '.join(list(word_set))))\n",
    "if \"Brian\" in s:\n",
    "    print(\"The word Brian is in the sentence\")"
   ]
  },
  {
   "cell_type": "code",
   "execution_count": null,
   "metadata": {
    "collapsed": true
   },
   "outputs": [],
   "source": []
  },
  {
   "cell_type": "markdown",
   "metadata": {},
   "source": [
    "List in python\n",
    "--------------\n",
    "\n",
    "* List creation\n",
    "* Modification of an element\n",
    "* The command ``range(n)``\n",
    "* A list can contain elements of any type (list containing a list)\n",
    "* *list comprehension* \n",
    "* List comprehension can be used to filter a list\n",
    "* There are two convenient ways to loop through a list"
   ]
  },
  {
   "cell_type": "code",
   "execution_count": 86,
   "metadata": {
    "collapsed": false
   },
   "outputs": [
    {
     "name": "stdout",
     "output_type": "stream",
     "text": [
      "[(3.24+1j), 3, 4]\n"
     ]
    }
   ],
   "source": [
    "l = [1, 2, 3, 4]\n",
    "l = [] # Empty list\n",
    "l.append(3) # now l==[3]\n",
    "l.append(4) # now l==[3, 4]\n",
    "l.insert(0,3.24+1j) # now l==[3.24+1j,3,4]\n",
    "print(l)"
   ]
  },
  {
   "cell_type": "code",
   "execution_count": 89,
   "metadata": {
    "collapsed": false
   },
   "outputs": [
    {
     "name": "stdout",
     "output_type": "stream",
     "text": [
      "[(3.24+1j), 'hello', 4, 3]\n"
     ]
    }
   ],
   "source": [
    "l[0]\n",
    "l[1] = 'hello'\n",
    "print(l)"
   ]
  },
  {
   "cell_type": "code",
   "execution_count": 90,
   "metadata": {
    "collapsed": false
   },
   "outputs": [
    {
     "name": "stdout",
     "output_type": "stream",
     "text": [
      "1\n",
      "3\n",
      "5\n",
      "Pierre\n",
      "1  is the item number  0  of the list\n",
      "3  is the item number  1  of the list\n",
      "5  is the item number  2  of the list\n",
      "Pierre  is the item number  3  of the list\n"
     ]
    }
   ],
   "source": [
    "l = [1, 3, 5, \"Pierre\"]\n",
    "for elm in l:\n",
    "    print(elm)\n",
    "\n",
    "for i,elm in enumerate(l):\n",
    "    print(elm, \" is the item number \",i,\" of the list\")\n"
   ]
  },
  {
   "cell_type": "code",
   "execution_count": 94,
   "metadata": {
    "collapsed": false
   },
   "outputs": [
    {
     "name": "stdout",
     "output_type": "stream",
     "text": [
      "0\n",
      "1\n",
      "2\n",
      "3\n",
      "4\n",
      "5\n",
      "6\n",
      "7\n",
      "8\n",
      "9\n"
     ]
    }
   ],
   "source": [
    "for i in range(10):\n",
    "    print(i)\n",
    " \n",
    "#Don't do this\n",
    "#for i in range(len(l)):\n",
    "#    print(l[i])"
   ]
  },
  {
   "cell_type": "markdown",
   "metadata": {},
   "source": [
    "Tuple\n",
    "-----\n",
    "\n",
    "* Tuples are used to collect few objects together\n",
    "* Tuple are used when a function returns more that one value"
   ]
  },
  {
   "cell_type": "code",
   "execution_count": 98,
   "metadata": {
    "collapsed": false
   },
   "outputs": [
    {
     "name": "stdout",
     "output_type": "stream",
     "text": [
      "2\n"
     ]
    }
   ],
   "source": [
    "(1, 2)\n",
    "('Pierre', 'Cladé')\n",
    "\n",
    "def f():\n",
    "    return 1, 2\n",
    "\n",
    "a, b = f()\n",
    "print(b)"
   ]
  },
  {
   "cell_type": "markdown",
   "metadata": {},
   "source": [
    "Dictionary\n",
    "----------\n"
   ]
  },
  {
   "cell_type": "code",
   "execution_count": 106,
   "metadata": {
    "collapsed": false
   },
   "outputs": [
    {
     "data": {
      "text/plain": [
       "'Pierre'"
      ]
     },
     "execution_count": 106,
     "metadata": {},
     "output_type": "execute_result"
    }
   ],
   "source": [
    "example = {\"name\":\"Cladé\", \"first_name\":\"Pierre\", \"age\":0}\n",
    "example['first_name']"
   ]
  },
  {
   "cell_type": "code",
   "execution_count": 108,
   "metadata": {
    "collapsed": false
   },
   "outputs": [
    {
     "name": "stdout",
     "output_type": "stream",
     "text": [
      "address apzieropzier pzoeirpozei r\n",
      "first_name Pierre\n",
      "age good question?\n",
      "name Cladé\n"
     ]
    }
   ],
   "source": [
    "example['age'] = \"good question?\"\n",
    "example['address'] = \"apzieropzier pzoeirpozei r\"\n",
    "for key, val in example.items():\n",
    "    print(key, val)"
   ]
  },
  {
   "cell_type": "markdown",
   "metadata": {},
   "source": [
    "Set\n",
    "---\n"
   ]
  },
  {
   "cell_type": "code",
   "execution_count": 109,
   "metadata": {
    "collapsed": false
   },
   "outputs": [
    {
     "name": "stdout",
     "output_type": "stream",
     "text": [
      "{1, 2, 3, 5, 6}\n",
      "{3}\n"
     ]
    }
   ],
   "source": [
    "a = set([1,2,3])\n",
    "b = set([3,5,6])\n",
    "\n",
    "c = a | b # union\n",
    "d = a & b # intersection\n",
    "print(c)\n",
    "print(d)"
   ]
  },
  {
   "cell_type": "code",
   "execution_count": 111,
   "metadata": {
    "collapsed": false
   },
   "outputs": [
    {
     "name": "stdout",
     "output_type": "stream",
     "text": [
      "Enter a password with at least one punctuation :2154\n",
      "The password should contain at least one punctuation\n"
     ]
    }
   ],
   "source": [
    "pwd = input('Enter a password with at least one punctuation :')\n",
    "punctuation = set(\"?,.;:!\")\n",
    "if (punctuation & set(pwd)) == set():\n",
    "    print(\"The password should contain at least one punctuation\")"
   ]
  },
  {
   "cell_type": "code",
   "execution_count": null,
   "metadata": {
    "collapsed": true
   },
   "outputs": [],
   "source": []
  },
  {
   "cell_type": "markdown",
   "metadata": {},
   "source": [
    "Index in Python\n",
    "---------------\n",
    "\n",
    "* start:stop:step\n",
    "* slice(start, stop, step)"
   ]
  },
  {
   "cell_type": "code",
   "execution_count": 122,
   "metadata": {
    "collapsed": false
   },
   "outputs": [
    {
     "data": {
      "text/plain": [
       "'Pe'"
      ]
     },
     "execution_count": 122,
     "metadata": {},
     "output_type": "execute_result"
    }
   ],
   "source": [
    "s = 'Pierre'\n",
    "s[0:2] + s[2:5]\n",
    "\n",
    "s[0:4:2]\n",
    "\n",
    "a = slice(0,4,2)\n",
    "s[a]"
   ]
  },
  {
   "cell_type": "markdown",
   "metadata": {},
   "source": [
    "None\n",
    "----\n"
   ]
  },
  {
   "cell_type": "code",
   "execution_count": 124,
   "metadata": {
    "collapsed": false
   },
   "outputs": [
    {
     "name": "stdout",
     "output_type": "stream",
     "text": [
      "Hello\n"
     ]
    },
    {
     "data": {
      "text/plain": [
       "True"
      ]
     },
     "execution_count": 124,
     "metadata": {},
     "output_type": "execute_result"
    }
   ],
   "source": [
    "def f():\n",
    "    print('Hello')\n",
    "f()==None\n",
    "\n",
    "def log_data(txt, file=None):\n",
    "    if file is None:\n",
    "        print(txt)\n",
    "    else:\n",
    "        file.write(txt)"
   ]
  },
  {
   "cell_type": "markdown",
   "metadata": {},
   "source": [
    "Mutable objects / arguments in functions\n",
    "========================================\n"
   ]
  },
  {
   "cell_type": "code",
   "execution_count": null,
   "metadata": {
    "collapsed": true
   },
   "outputs": [],
   "source": [
    "a = 3 # Python creates the object #1 containing 3.  \n",
    "b = a + 4 # Python creates the object #2 containing 7\n",
    "c = a # The symbol c point to object #1\n",
    "a = b # The symbol a point to object #2\n",
    "c = 3.14 # The symbol c point to a third object. There is no way\n",
    "        # to point to object #1. Python can delete it.\n"
   ]
  },
  {
   "cell_type": "code",
   "execution_count": 125,
   "metadata": {
    "collapsed": false
   },
   "outputs": [
    {
     "name": "stdout",
     "output_type": "stream",
     "text": [
      "3\n",
      "4\n",
      "4\n"
     ]
    }
   ],
   "source": [
    "a = [2,3,7]\n",
    "b = a\n",
    "print(b[1])\n",
    "a[1] = 4\n",
    "print(b[1])\n",
    "a = [5,6,7,8]\n",
    "print(b[1])"
   ]
  },
  {
   "cell_type": "code",
   "execution_count": 126,
   "metadata": {
    "collapsed": false
   },
   "outputs": [
    {
     "name": "stdout",
     "output_type": "stream",
     "text": [
      "2\n",
      "4\n",
      "4\n"
     ]
    }
   ],
   "source": [
    "def exemple(arg):\n",
    "    print(arg[1])\n",
    "    arg[1] = 4\n",
    "    print(arg[1])\n",
    "    arg = [5,6,7,8]\n",
    "\n",
    "a = [1,2,3,4]\n",
    "exemple(a)\n",
    "print(a[1])"
   ]
  },
  {
   "cell_type": "code",
   "execution_count": 127,
   "metadata": {
    "collapsed": false
   },
   "outputs": [
    {
     "name": "stdout",
     "output_type": "stream",
     "text": [
      "3\n"
     ]
    }
   ],
   "source": [
    "# which number is displayed ?\n",
    "a = [1,2,34,45]\n",
    "b = a\n",
    "c = a[1]\n",
    "a[2] = 1\n",
    "a[1] = 5\n",
    "print(b[2]+c)"
   ]
  },
  {
   "cell_type": "code",
   "execution_count": null,
   "metadata": {
    "collapsed": true
   },
   "outputs": [],
   "source": []
  },
  {
   "cell_type": "markdown",
   "metadata": {},
   "source": [
    "Local and global variable\n",
    "-------------------------\n"
   ]
  },
  {
   "cell_type": "code",
   "execution_count": 6,
   "metadata": {
    "collapsed": false
   },
   "outputs": [
    {
     "name": "stdout",
     "output_type": "stream",
     "text": [
      "0.5403023058681398\n"
     ]
    }
   ],
   "source": [
    "a = 1\n",
    "from math import sin, cos\n",
    "\n",
    "def example():\n",
    "    print(sin(1))\n",
    "a = 2\n",
    "sin = cos\n",
    "example()"
   ]
  },
  {
   "cell_type": "code",
   "execution_count": 11,
   "metadata": {
    "collapsed": false
   },
   "outputs": [
    {
     "name": "stdout",
     "output_type": "stream",
     "text": [
      "1\n",
      "4\n",
      "2\n"
     ]
    }
   ],
   "source": [
    "a = 1\n",
    "def example(a=1):\n",
    "    print(a)\n",
    "    a = 4\n",
    "    print(a)\n",
    "a = 2\n",
    "example()\n",
    "print(a)"
   ]
  },
  {
   "cell_type": "markdown",
   "metadata": {},
   "source": [
    "The ``global`` instruction in Python\n",
    "------------------------------------\n",
    "\n",
    "Forget it !\n"
   ]
  },
  {
   "cell_type": "code",
   "execution_count": null,
   "metadata": {
    "collapsed": true
   },
   "outputs": [],
   "source": []
  },
  {
   "cell_type": "markdown",
   "metadata": {},
   "source": [
    "Control structure\n",
    "=================\n",
    "\n",
    "\n",
    "For loop\n",
    "--------\n",
    "\n",
    "* enumerate\n",
    "* zip\n"
   ]
  },
  {
   "cell_type": "code",
   "execution_count": 13,
   "metadata": {
    "collapsed": false
   },
   "outputs": [
    {
     "name": "stdout",
     "output_type": "stream",
     "text": [
      "1 3\n",
      "3 5\n",
      "4 1\n"
     ]
    }
   ],
   "source": [
    "X = [1,3,4,7]\n",
    "Y = [3,5,1]\n",
    "for x,y in zip(X,Y):\n",
    "    print(x,y)\n"
   ]
  },
  {
   "cell_type": "code",
   "execution_count": 14,
   "metadata": {
    "collapsed": false
   },
   "outputs": [
    {
     "name": "stdout",
     "output_type": "stream",
     "text": [
      "length = 1\n",
      "length = 2\n",
      "length = 2\n",
      "length = 1\n",
      "length = 1\n",
      "length = 2\n"
     ]
    }
   ],
   "source": [
    "l = [1, 2, 4, 6, 7, 8, 10]\n",
    "for start, stop in zip(l[:-1], l[1:]):\n",
    "    print('length = {}'.format(stop-start))"
   ]
  },
  {
   "cell_type": "code",
   "execution_count": null,
   "metadata": {
    "collapsed": true
   },
   "outputs": [],
   "source": []
  },
  {
   "cell_type": "code",
   "execution_count": 15,
   "metadata": {
    "collapsed": false
   },
   "outputs": [
    {
     "name": "stdout",
     "output_type": "stream",
     "text": [
      "True\n"
     ]
    }
   ],
   "source": [
    "from math import ceil, sqrt\n",
    "m = 2017\n",
    "p_max = int(ceil(sqrt(m)))\n",
    "for p in range(p_max+1):\n",
    "    if p<=1:\n",
    "        continue\n",
    "    if m%p==0:\n",
    "        is_prime = False\n",
    "        break\n",
    "else:\n",
    "    is_prime = True\n",
    "\n",
    "print(is_prime)"
   ]
  },
  {
   "cell_type": "code",
   "execution_count": 17,
   "metadata": {
    "collapsed": false
   },
   "outputs": [
    {
     "data": {
      "text/plain": [
       "True"
      ]
     },
     "execution_count": 17,
     "metadata": {},
     "output_type": "execute_result"
    }
   ],
   "source": [
    "def is_prime(m):\n",
    "    p_max = int(ceil(sqrt(m)))\n",
    "    for p in range(2, p_max+1):\n",
    "        if m%p==0:\n",
    "            return False\n",
    "    return True\n",
    "\n",
    "is_prime(2017)"
   ]
  },
  {
   "cell_type": "markdown",
   "metadata": {},
   "source": [
    "Generators\n",
    "----------\n"
   ]
  },
  {
   "cell_type": "code",
   "execution_count": null,
   "metadata": {
    "collapsed": false
   },
   "outputs": [],
   "source": []
  },
  {
   "cell_type": "code",
   "execution_count": 26,
   "metadata": {
    "collapsed": false
   },
   "outputs": [
    {
     "name": "stdout",
     "output_type": "stream",
     "text": [
      "One\n",
      "i = 1\n",
      "two\n",
      "i = 2\n"
     ]
    }
   ],
   "source": [
    "def simple_generator():\n",
    "    print('One')\n",
    "    yield 1\n",
    "    print('two')\n",
    "    yield 2\n",
    "\n",
    "for i in simple_generator():\n",
    "    print('i =', i)"
   ]
  },
  {
   "cell_type": "code",
   "execution_count": 27,
   "metadata": {
    "collapsed": false
   },
   "outputs": [
    {
     "name": "stdout",
     "output_type": "stream",
     "text": [
      "0\n",
      "1\n",
      "2\n",
      "3\n",
      "234\n",
      "245\n"
     ]
    }
   ],
   "source": [
    "def concatenate(liste1, liste2):\n",
    "    for elm in liste1:\n",
    "        yield elm\n",
    "    for elm in liste2:\n",
    "        yield elm\n",
    "\n",
    "for elm in concatenate(range(4), [234, 245]):\n",
    "    print(elm)"
   ]
  },
  {
   "cell_type": "code",
   "execution_count": 28,
   "metadata": {
    "collapsed": false
   },
   "outputs": [
    {
     "name": "stdout",
     "output_type": "stream",
     "text": [
      "(0, 0)\n",
      "(0, 1)\n",
      "(0, 2)\n",
      "(1, 0)\n",
      "(1, 1)\n",
      "(1, 2)\n"
     ]
    }
   ],
   "source": [
    "def matrix_index_generator(N1, N2):\n",
    "    for i in range(N1):\n",
    "        for j in range(N2):\n",
    "            yield (i, j)\n",
    "            \n",
    "for ij in matrix_index_generator(2, 3):\n",
    "    print(ij)"
   ]
  },
  {
   "cell_type": "code",
   "execution_count": null,
   "metadata": {
    "collapsed": true
   },
   "outputs": [],
   "source": []
  },
  {
   "cell_type": "markdown",
   "metadata": {},
   "source": [
    "Function\n",
    "--------\n",
    "\n"
   ]
  },
  {
   "cell_type": "code",
   "execution_count": 29,
   "metadata": {
    "collapsed": true
   },
   "outputs": [],
   "source": [
    "from scipy.integrate import quad\n",
    "\n",
    "quad?"
   ]
  },
  {
   "cell_type": "code",
   "execution_count": 30,
   "metadata": {
    "collapsed": false
   },
   "outputs": [
    {
     "data": {
      "text/plain": [
       "(22025.465794806725, 6.239389118119916e-10)"
      ]
     },
     "execution_count": 30,
     "metadata": {},
     "output_type": "execute_result"
    }
   ],
   "source": [
    "from math import exp\n",
    "quad(exp, 0, 10, epsrel=1E-3)"
   ]
  },
  {
   "cell_type": "code",
   "execution_count": 31,
   "metadata": {
    "collapsed": false
   },
   "outputs": [
    {
     "data": {
      "text/plain": [
       "(1.7182818284590453, 1.9076760487502457e-14)"
      ]
     },
     "execution_count": 31,
     "metadata": {},
     "output_type": "execute_result"
    }
   ],
   "source": [
    "option = {\"epsrel\":1E-3, 'limlst':100}\n",
    "quad(exp, 0, 1, **option)\n"
   ]
  },
  {
   "cell_type": "markdown",
   "metadata": {},
   "source": [
    "Lambda function\n"
   ]
  },
  {
   "cell_type": "code",
   "execution_count": 33,
   "metadata": {
    "collapsed": false
   },
   "outputs": [
    {
     "data": {
      "text/plain": [
       "(1.8963616764856734, 2.105384396251157e-14)"
      ]
     },
     "execution_count": 33,
     "metadata": {},
     "output_type": "execute_result"
    }
   ],
   "source": [
    "def my_function(x):\n",
    "    return 3*exp(-x)\n",
    "\n",
    "quad(my_function, 0, 1)\n",
    "quad(lambda x:3*exp(-x), 0, 1)"
   ]
  },
  {
   "cell_type": "markdown",
   "metadata": {},
   "source": [
    "Variable length argument list\n"
   ]
  },
  {
   "cell_type": "code",
   "execution_count": 40,
   "metadata": {
    "collapsed": false
   },
   "outputs": [
    {
     "name": "stdout",
     "output_type": "stream",
     "text": [
      "1 hello\n",
      "It's 15:30\n"
     ]
    }
   ],
   "source": [
    "args = (1, \"hello\")\n",
    "print(*args)\n",
    "\n",
    "hour = 15\n",
    "minute = 30\n",
    "s = \"It's {h}:{mn}\".format(h=hour, mn=minute)\n",
    "print(s)"
   ]
  },
  {
   "cell_type": "code",
   "execution_count": 39,
   "metadata": {
    "collapsed": false
   },
   "outputs": [
    {
     "name": "stdout",
     "output_type": "stream",
     "text": [
      "(3, 4)\n",
      "{'e': 3}\n"
     ]
    }
   ],
   "source": [
    "def my_function(a, b, *args, **kwd):\n",
    "    print(args)\n",
    "    print(kwd)\n",
    "\n",
    "my_function(1,2,3,4,e=3)"
   ]
  },
  {
   "cell_type": "code",
   "execution_count": 41,
   "metadata": {
    "collapsed": false
   },
   "outputs": [
    {
     "name": "stdout",
     "output_type": "stream",
     "text": [
      "(0.7468241328124271, 8.291413475940725e-15)\n"
     ]
    }
   ],
   "source": [
    "def erf(x, **kwd):\n",
    "    return quad(lambda x:exp(-x**2), 0, x, **kwd)\n",
    "\n",
    "print(erf(1, epsrel=1E-4))"
   ]
  },
  {
   "cell_type": "code",
   "execution_count": null,
   "metadata": {
    "collapsed": true
   },
   "outputs": [],
   "source": []
  },
  {
   "cell_type": "markdown",
   "metadata": {},
   "source": [
    "Accents and non Latin letters\n",
    "============================="
   ]
  },
  {
   "cell_type": "code",
   "execution_count": 44,
   "metadata": {
    "collapsed": false
   },
   "outputs": [
    {
     "name": "stdout",
     "output_type": "stream",
     "text": [
      "中华\n"
     ]
    }
   ],
   "source": [
    "name = \"Pierre Cladé\"\n",
    "china = \"中华人民共和国\"\n",
    "print(china[:2])\n",
    "α = 1/137.035990"
   ]
  },
  {
   "cell_type": "code",
   "execution_count": 46,
   "metadata": {
    "collapsed": false
   },
   "outputs": [
    {
     "name": "stdout",
     "output_type": "stream",
     "text": [
      "2\n",
      "1\n"
     ]
    }
   ],
   "source": [
    "A = 1\n",
    "Α = 2\n",
    "print(Α)\n",
    "print(A)"
   ]
  },
  {
   "cell_type": "code",
   "execution_count": 48,
   "metadata": {
    "collapsed": false
   },
   "outputs": [
    {
     "name": "stdout",
     "output_type": "stream",
     "text": [
      "b'Pierre Clad\\xe9'\n",
      "b'Pierre Clad\\xc3\\xa9'\n"
     ]
    },
    {
     "data": {
      "text/plain": [
       "b'\\xe4\\xb8\\xad\\xe5\\x8d\\x8e\\xe4\\xba\\xba\\xe6\\xb0\\x91\\xe5\\x85\\xb1\\xe5\\x92\\x8c\\xe5\\x9b\\xbd'"
      ]
     },
     "execution_count": 48,
     "metadata": {},
     "output_type": "execute_result"
    }
   ],
   "source": [
    "print(name.encode('latin-1'))\n",
    "print(name.encode('utf-8'))\n",
    "china.encode('utf-8')"
   ]
  },
  {
   "cell_type": "code",
   "execution_count": 49,
   "metadata": {
    "collapsed": false
   },
   "outputs": [
    {
     "data": {
      "text/plain": [
       "'α = 1/137'"
      ]
     },
     "execution_count": 49,
     "metadata": {},
     "output_type": "execute_result"
    }
   ],
   "source": [
    "\"α = 1/137\".encode('utf-8')\n",
    "b'\\xce\\xb1 = 1/137'.decode('utf-8')"
   ]
  },
  {
   "cell_type": "code",
   "execution_count": null,
   "metadata": {
    "collapsed": true
   },
   "outputs": [],
   "source": []
  },
  {
   "cell_type": "markdown",
   "metadata": {},
   "source": [
    "Files and file like objects\n",
    "===========================\n",
    "\n",
    "Files\n",
    "-----\n",
    "\n",
    "* ``write(str)`` : To write one string in the file\n",
    "\n",
    "* ``read`` : To read all the file. ``read(n)`` to read a given number of characters. \n",
    "\n",
    "* ``readline`` : read one line of the file\n",
    "\n",
    "* ``realines`` : return a list with one item per line.\n"
   ]
  },
  {
   "cell_type": "code",
   "execution_count": null,
   "metadata": {
    "collapsed": true
   },
   "outputs": [],
   "source": []
  },
  {
   "cell_type": "markdown",
   "metadata": {},
   "source": [
    "With statement\n",
    "--------------\n"
   ]
  },
  {
   "cell_type": "code",
   "execution_count": null,
   "metadata": {
    "collapsed": true
   },
   "outputs": [],
   "source": []
  },
  {
   "cell_type": "markdown",
   "metadata": {},
   "source": [
    "File like objects\n",
    "-----------------\n"
   ]
  },
  {
   "cell_type": "code",
   "execution_count": null,
   "metadata": {
    "collapsed": true
   },
   "outputs": [],
   "source": []
  },
  {
   "cell_type": "markdown",
   "metadata": {},
   "source": [
    "Modules\n",
    "=======\n",
    "\n",
    "Creating a module\n",
    "-----------------\n",
    "\n",
    "Importing from a module\n",
    "-----------------------\n",
    "\n",
    "\n"
   ]
  },
  {
   "cell_type": "code",
   "execution_count": null,
   "metadata": {
    "collapsed": true
   },
   "outputs": [],
   "source": []
  },
  {
   "cell_type": "markdown",
   "metadata": {},
   "source": [
    "Package\n",
    "=======\n",
    "\n",
    "Installation of a package\n",
    "-------------------------\n",
    "\n",
    "Create your package\n",
    "-------------------\n",
    "\n",
    "Local import\n",
    "------------\n",
    "\n",
    "Distribute your package\n",
    "-----------------------"
   ]
  },
  {
   "cell_type": "code",
   "execution_count": null,
   "metadata": {
    "collapsed": true
   },
   "outputs": [],
   "source": []
  },
  {
   "cell_type": "code",
   "execution_count": null,
   "metadata": {
    "collapsed": true
   },
   "outputs": [],
   "source": [
    "from distutils.core import setup\n",
    "__version__ = \"alpha\"\n",
    "\n",
    "long_description=\"\"\"This is a very nice package \n",
    "\n",
    "\"\"\"\n",
    "\n",
    "setup(name='my_package',\n",
    "      version=__version__,\n",
    "      description='A very nice package',\n",
    "      author=u'François Pignon',\n",
    "      author_email='francois.pignon@trucmuch.fr',\n",
    "      url='',\n",
    "      packages=['my_package'],\n",
    "     )\n"
   ]
  },
  {
   "cell_type": "code",
   "execution_count": null,
   "metadata": {
    "collapsed": true
   },
   "outputs": [],
   "source": []
  },
  {
   "cell_type": "markdown",
   "metadata": {},
   "source": [
    "Error and Exception\n",
    "===================\n"
   ]
  },
  {
   "cell_type": "code",
   "execution_count": 6,
   "metadata": {
    "collapsed": false
   },
   "outputs": [
    {
     "name": "stdout",
     "output_type": "stream",
     "text": [
      "34\n",
      "Hello\n",
      "World\n",
      "Hello World\n"
     ]
    }
   ],
   "source": [
    "from math import sin, sqrt, cos\n",
    "\n",
    "a = sin(1)\n",
    "\n",
    "b = cos(2)\n",
    "\n",
    "a,b,c = 2,8,4\n",
    "Delta = b**2 - 4*a*c\n",
    "root1 = (-b + sqrt(Delta)/(2*a) )\n",
    "root_number_2 = (-b - sqrt(Delta)/(2*a) )\n",
    "\n",
    "mylist = [1,2,34]\n",
    "print(mylist[2])\n",
    "\n",
    "if 1==1:\n",
    "    print('Hello')\n",
    "    print('World')\n",
    "\n",
    "if 1==1:\n",
    "    print('Hello World')\n"
   ]
  },
  {
   "cell_type": "code",
   "execution_count": 53,
   "metadata": {
    "collapsed": false
   },
   "outputs": [
    {
     "name": "stdout",
     "output_type": "stream",
     "text": [
      "6\n"
     ]
    }
   ],
   "source": [
    "a = ( 1 + 2\n",
    "    + 3)\n",
    "print(a)"
   ]
  },
  {
   "cell_type": "code",
   "execution_count": 11,
   "metadata": {
    "collapsed": false
   },
   "outputs": [
    {
     "name": "stdout",
     "output_type": "stream",
     "text": [
      "1j\n"
     ]
    }
   ],
   "source": [
    "from math import sqrt\n",
    "a = -1\n",
    "try:\n",
    "    b = sqrt(a)\n",
    "except ValueError:\n",
    "    b = 1J*sqrt(-a)\n",
    "print(b)"
   ]
  },
  {
   "cell_type": "code",
   "execution_count": 20,
   "metadata": {
    "collapsed": false
   },
   "outputs": [
    {
     "name": "stdout",
     "output_type": "stream",
     "text": [
      "from __future__ import division, print_function\n",
      "\n",
      "a = 10\n",
      "print(2*a)\n",
      "print(a/4)\n",
      "\n",
      "from __future__ import division, print_function\n",
      "\n",
      "a = 10\n",
      "print(2*a)\n",
      "print(a/4)\n",
      "\n"
     ]
    }
   ],
   "source": [
    "import os\n",
    "filename = '/home/clade/Bureau/test.py'\n",
    "\n",
    "if os.path.exists(filename):\n",
    "    print(open(filename).read())\n",
    "elif False:\n",
    "    print('pzieprzoieopri')\n",
    "else:\n",
    "    print('Hello')\n",
    "\n",
    "try:\n",
    "    print(open(filename).read())\n",
    "except IOError:\n",
    "    print('Hello')"
   ]
  },
  {
   "cell_type": "code",
   "execution_count": 29,
   "metadata": {
    "collapsed": false
   },
   "outputs": [
    {
     "ename": "Exception",
     "evalue": "Total internal reflection not allowed",
     "output_type": "error",
     "traceback": [
      "\u001b[0;31m----------------------------------------------------------------------\u001b[0m",
      "\u001b[0;31mValueError\u001b[0m                           Traceback (most recent call last)",
      "\u001b[0;32m<ipython-input-29-aff6b3f4e945>\u001b[0m in \u001b[0;36msnell_descartes\u001b[0;34m(theta1, n1, n2)\u001b[0m\n\u001b[1;32m     12\u001b[0m     \u001b[0;32mtry\u001b[0m\u001b[0;34m:\u001b[0m\u001b[0;34m\u001b[0m\u001b[0m\n\u001b[0;32m---> 13\u001b[0;31m         \u001b[0;32mreturn\u001b[0m \u001b[0masin\u001b[0m\u001b[0;34m(\u001b[0m\u001b[0msin_theta_2\u001b[0m\u001b[0;34m)\u001b[0m\u001b[0;34m\u001b[0m\u001b[0m\n\u001b[0m\u001b[1;32m     14\u001b[0m     \u001b[0;32mexcept\u001b[0m \u001b[0mValueError\u001b[0m\u001b[0;34m:\u001b[0m\u001b[0;34m\u001b[0m\u001b[0m\n",
      "\u001b[0;31mValueError\u001b[0m: math domain error",
      "\nDuring handling of the above exception, another exception occurred:\n",
      "\u001b[0;31mException\u001b[0m                            Traceback (most recent call last)",
      "\u001b[0;32m<ipython-input-29-aff6b3f4e945>\u001b[0m in \u001b[0;36m<module>\u001b[0;34m()\u001b[0m\n\u001b[1;32m     31\u001b[0m \u001b[0;34m\u001b[0m\u001b[0m\n\u001b[1;32m     32\u001b[0m \u001b[0;34m\u001b[0m\u001b[0m\n\u001b[0;32m---> 33\u001b[0;31m \u001b[0mtheta2\u001b[0m \u001b[0;34m=\u001b[0m \u001b[0msnell_descartes\u001b[0m\u001b[0;34m(\u001b[0m\u001b[0;36m1\u001b[0m\u001b[0;34m,\u001b[0m \u001b[0;36m1.5\u001b[0m\u001b[0;34m,\u001b[0m \u001b[0;36m1\u001b[0m\u001b[0;34m)\u001b[0m\u001b[0;34m\u001b[0m\u001b[0m\n\u001b[0m\u001b[1;32m     34\u001b[0m \u001b[0mprint\u001b[0m\u001b[0;34m(\u001b[0m\u001b[0mcos\u001b[0m\u001b[0;34m(\u001b[0m\u001b[0mtheta2\u001b[0m\u001b[0;34m)\u001b[0m\u001b[0;34m)\u001b[0m\u001b[0;34m\u001b[0m\u001b[0m\n",
      "\u001b[0;32m<ipython-input-29-aff6b3f4e945>\u001b[0m in \u001b[0;36msnell_descartes\u001b[0;34m(theta1, n1, n2)\u001b[0m\n\u001b[1;32m     13\u001b[0m         \u001b[0;32mreturn\u001b[0m \u001b[0masin\u001b[0m\u001b[0;34m(\u001b[0m\u001b[0msin_theta_2\u001b[0m\u001b[0;34m)\u001b[0m\u001b[0;34m\u001b[0m\u001b[0m\n\u001b[1;32m     14\u001b[0m     \u001b[0;32mexcept\u001b[0m \u001b[0mValueError\u001b[0m\u001b[0;34m:\u001b[0m\u001b[0;34m\u001b[0m\u001b[0m\n\u001b[0;32m---> 15\u001b[0;31m         \u001b[0;32mraise\u001b[0m \u001b[0mException\u001b[0m\u001b[0;34m(\u001b[0m\u001b[0;34m'Total internal reflection not allowed'\u001b[0m\u001b[0;34m)\u001b[0m\u001b[0;34m\u001b[0m\u001b[0m\n\u001b[0m\u001b[1;32m     16\u001b[0m \u001b[0;34m\u001b[0m\u001b[0m\n\u001b[1;32m     17\u001b[0m \u001b[0;34m\u001b[0m\u001b[0m\n",
      "\u001b[0;31mException\u001b[0m: Total internal reflection not allowed"
     ]
    }
   ],
   "source": [
    "from math import sin, asin, cos\n",
    "\n",
    "def snell_descartes(theta1, n1, n2):\n",
    "    sin_theta_2 = n1*sin(theta1)/n2\n",
    "    if sin_theta_2>1:\n",
    "        raise Exception('Total internal reflection not allowed')\n",
    "    else:\n",
    "        return asin(sin_theta_2)\n",
    "\n",
    "def snell_descartes(theta1, n1, n2):\n",
    "    sin_theta_2 = n1*sin(theta1)/n2\n",
    "    try:\n",
    "        return asin(sin_theta_2)\n",
    "    except ValueError:\n",
    "        raise Exception('Total internal reflection not allowed')\n",
    "    \n",
    "    \n",
    "# DONT DO THIS\n",
    "#def snell_descartes(theta1, n1, n2):\n",
    "#    sin_theta_2 = n1*sin(theta1)/n2\n",
    "#    if sin_theta_2<=1:\n",
    "#        return asin(sin_theta_2)\n",
    "\n",
    "# DONT DO THIS\n",
    "#def snell_descartes(theta1, n1, n2):\n",
    "#    sin_theta_2 = n1*sin(theta1)/n2\n",
    "#    if sin_theta_2>1:\n",
    "#        print('Total internal reflection not allowed')\n",
    "#    else:\n",
    "#        return asin(sin_theta_2)\n",
    "\n",
    "\n",
    "theta2 = snell_descartes(1, 1.5, 1)\n",
    "print(cos(theta2))"
   ]
  },
  {
   "cell_type": "code",
   "execution_count": 32,
   "metadata": {
    "collapsed": false
   },
   "outputs": [
    {
     "name": "stdout",
     "output_type": "stream",
     "text": [
      "1.7320508075688772\n"
     ]
    },
    {
     "ename": "Exception",
     "evalue": "The triangle does not exist",
     "output_type": "error",
     "traceback": [
      "\u001b[0;31m----------------------------------------------------------------------\u001b[0m",
      "\u001b[0;31mValueError\u001b[0m                           Traceback (most recent call last)",
      "\u001b[0;32m<ipython-input-32-d9d9e2aef808>\u001b[0m in \u001b[0;36mtriangle_area\u001b[0;34m(a, b, c)\u001b[0m\n\u001b[1;32m     14\u001b[0m     \u001b[0;32mtry\u001b[0m\u001b[0;34m:\u001b[0m\u001b[0;34m\u001b[0m\u001b[0m\n\u001b[0;32m---> 15\u001b[0;31m         \u001b[0;32mreturn\u001b[0m \u001b[0msqrt\u001b[0m\u001b[0;34m(\u001b[0m\u001b[0ms\u001b[0m\u001b[0;34m*\u001b[0m\u001b[0;34m(\u001b[0m\u001b[0ms\u001b[0m\u001b[0;34m-\u001b[0m\u001b[0ma\u001b[0m\u001b[0;34m)\u001b[0m\u001b[0;34m*\u001b[0m\u001b[0;34m(\u001b[0m\u001b[0ms\u001b[0m\u001b[0;34m-\u001b[0m\u001b[0mb\u001b[0m\u001b[0;34m)\u001b[0m\u001b[0;34m*\u001b[0m\u001b[0;34m(\u001b[0m\u001b[0ms\u001b[0m\u001b[0;34m-\u001b[0m\u001b[0mc\u001b[0m\u001b[0;34m)\u001b[0m\u001b[0;34m)\u001b[0m\u001b[0;34m\u001b[0m\u001b[0m\n\u001b[0m\u001b[1;32m     16\u001b[0m     \u001b[0;32mexcept\u001b[0m \u001b[0mValueError\u001b[0m\u001b[0;34m:\u001b[0m\u001b[0;34m\u001b[0m\u001b[0m\n",
      "\u001b[0;31mValueError\u001b[0m: math domain error",
      "\nDuring handling of the above exception, another exception occurred:\n",
      "\u001b[0;31mException\u001b[0m                            Traceback (most recent call last)",
      "\u001b[0;32m<ipython-input-32-d9d9e2aef808>\u001b[0m in \u001b[0;36m<module>\u001b[0;34m()\u001b[0m\n\u001b[1;32m     18\u001b[0m \u001b[0;34m\u001b[0m\u001b[0m\n\u001b[1;32m     19\u001b[0m \u001b[0mprint\u001b[0m\u001b[0;34m(\u001b[0m\u001b[0mtriangle_area\u001b[0m\u001b[0;34m(\u001b[0m\u001b[0;36m2\u001b[0m\u001b[0;34m,\u001b[0m \u001b[0;36m2\u001b[0m\u001b[0;34m,\u001b[0m \u001b[0;36m2\u001b[0m\u001b[0;34m)\u001b[0m\u001b[0;34m)\u001b[0m\u001b[0;34m\u001b[0m\u001b[0m\n\u001b[0;32m---> 20\u001b[0;31m \u001b[0mtriangle_area\u001b[0m\u001b[0;34m(\u001b[0m\u001b[0;36m2\u001b[0m\u001b[0;34m,\u001b[0m \u001b[0;36m2\u001b[0m\u001b[0;34m,\u001b[0m \u001b[0;36m200\u001b[0m\u001b[0;34m)\u001b[0m\u001b[0;34m\u001b[0m\u001b[0m\n\u001b[0m",
      "\u001b[0;32m<ipython-input-32-d9d9e2aef808>\u001b[0m in \u001b[0;36mtriangle_area\u001b[0;34m(a, b, c)\u001b[0m\n\u001b[1;32m     15\u001b[0m         \u001b[0;32mreturn\u001b[0m \u001b[0msqrt\u001b[0m\u001b[0;34m(\u001b[0m\u001b[0ms\u001b[0m\u001b[0;34m*\u001b[0m\u001b[0;34m(\u001b[0m\u001b[0ms\u001b[0m\u001b[0;34m-\u001b[0m\u001b[0ma\u001b[0m\u001b[0;34m)\u001b[0m\u001b[0;34m*\u001b[0m\u001b[0;34m(\u001b[0m\u001b[0ms\u001b[0m\u001b[0;34m-\u001b[0m\u001b[0mb\u001b[0m\u001b[0;34m)\u001b[0m\u001b[0;34m*\u001b[0m\u001b[0;34m(\u001b[0m\u001b[0ms\u001b[0m\u001b[0;34m-\u001b[0m\u001b[0mc\u001b[0m\u001b[0;34m)\u001b[0m\u001b[0;34m)\u001b[0m\u001b[0;34m\u001b[0m\u001b[0m\n\u001b[1;32m     16\u001b[0m     \u001b[0;32mexcept\u001b[0m \u001b[0mValueError\u001b[0m\u001b[0;34m:\u001b[0m\u001b[0;34m\u001b[0m\u001b[0m\n\u001b[0;32m---> 17\u001b[0;31m         \u001b[0;32mraise\u001b[0m \u001b[0mException\u001b[0m\u001b[0;34m(\u001b[0m\u001b[0;34m'The triangle does not exist'\u001b[0m\u001b[0;34m)\u001b[0m\u001b[0;34m\u001b[0m\u001b[0m\n\u001b[0m\u001b[1;32m     18\u001b[0m \u001b[0;34m\u001b[0m\u001b[0m\n\u001b[1;32m     19\u001b[0m \u001b[0mprint\u001b[0m\u001b[0;34m(\u001b[0m\u001b[0mtriangle_area\u001b[0m\u001b[0;34m(\u001b[0m\u001b[0;36m2\u001b[0m\u001b[0;34m,\u001b[0m \u001b[0;36m2\u001b[0m\u001b[0;34m,\u001b[0m \u001b[0;36m2\u001b[0m\u001b[0;34m)\u001b[0m\u001b[0;34m)\u001b[0m\u001b[0;34m\u001b[0m\u001b[0m\n",
      "\u001b[0;31mException\u001b[0m: The triangle does not exist"
     ]
    }
   ],
   "source": [
    "from math import sqrt\n",
    "def triangle_area(a, b, c):\n",
    "    \"\"\" Calculate triangle area\n",
    "    \n",
    "    Use the Heron's formula to calculate the aera of a triangle\n",
    "    for the length of each side\n",
    "    \n",
    "    input : \n",
    "        a, b, c (numbers): sides of the triangle\n",
    "    \n",
    "    output: \n",
    "        number : area of the triangle\"\"\"\n",
    "    s = (a+b+c)/2\n",
    "    try:\n",
    "        return sqrt(s*(s-a)*(s-b)*(s-c))\n",
    "    except ValueError:\n",
    "        raise Exception('The triangle does not exist')\n",
    "\n",
    "print(triangle_area(2, 2, 2))\n",
    "triangle_area(2, 2, 200)"
   ]
  },
  {
   "cell_type": "code",
   "execution_count": 34,
   "metadata": {
    "collapsed": false
   },
   "outputs": [
    {
     "name": "stdout",
     "output_type": "stream",
     "text": [
      "0.5403023058958567\n",
      "0.5403023058681398\n"
     ]
    }
   ],
   "source": [
    "from math import sin, cos\n",
    "\n",
    "def derivative(f, epsilon=1E-6):\n",
    "    \"\"\" Calculate derivative\n",
    "    \n",
    "    input : \n",
    "        f : function to derivate\n",
    "        epsilon : precision of the approximation\n",
    "        \n",
    "    outout : \n",
    "        f_prime (function) : the derivative of f\"\"\"\n",
    "    def f_prime(x):\n",
    "        return (f(x+epsilon) - f(x-epsilon))/(2*epsilon)\n",
    "    return f_prime\n",
    "\n",
    "my_cos = derivative(sin)\n",
    "print(my_cos(1))\n",
    "print(cos(1))"
   ]
  },
  {
   "cell_type": "code",
   "execution_count": null,
   "metadata": {
    "collapsed": true
   },
   "outputs": [],
   "source": []
  },
  {
   "cell_type": "code",
   "execution_count": 35,
   "metadata": {
    "collapsed": true
   },
   "outputs": [],
   "source": [
    "from math import sin, cos, pi"
   ]
  },
  {
   "cell_type": "code",
   "execution_count": 36,
   "metadata": {
    "collapsed": false
   },
   "outputs": [
    {
     "data": {
      "text/plain": [
       "3.141592653589793"
      ]
     },
     "execution_count": 36,
     "metadata": {},
     "output_type": "execute_result"
    }
   ],
   "source": [
    "pi"
   ]
  },
  {
   "cell_type": "code",
   "execution_count": 38,
   "metadata": {
    "collapsed": false
   },
   "outputs": [
    {
     "data": {
      "text/plain": [
       "3.141592653589793"
      ]
     },
     "execution_count": 38,
     "metadata": {},
     "output_type": "execute_result"
    }
   ],
   "source": [
    "import math\n",
    "math.pi\n",
    "\n",
    "import numpy\n",
    "numpy.pi"
   ]
  },
  {
   "cell_type": "code",
   "execution_count": 39,
   "metadata": {
    "collapsed": true
   },
   "outputs": [],
   "source": [
    "from math import *"
   ]
  },
  {
   "cell_type": "code",
   "execution_count": 40,
   "metadata": {
    "collapsed": false
   },
   "outputs": [
    {
     "data": {
      "text/plain": [
       "-0.4505495340698077"
      ]
     },
     "execution_count": 40,
     "metadata": {},
     "output_type": "execute_result"
    }
   ],
   "source": [
    "tan(e)"
   ]
  },
  {
   "cell_type": "code",
   "execution_count": 44,
   "metadata": {
    "collapsed": false
   },
   "outputs": [
    {
     "data": {
      "text/plain": [
       "<function edpif.derivative.<locals>.f_prime>"
      ]
     },
     "execution_count": 44,
     "metadata": {},
     "output_type": "execute_result"
    }
   ],
   "source": [
    "from edpif.math import derivative\n",
    "derivative(sin)"
   ]
  },
  {
   "cell_type": "code",
   "execution_count": 46,
   "metadata": {
    "collapsed": false
   },
   "outputs": [
    {
     "data": {
      "text/plain": [
       "<function edpif.derivative>"
      ]
     },
     "execution_count": 46,
     "metadata": {},
     "output_type": "execute_result"
    }
   ],
   "source": [
    "import edpif\n",
    "edpif.derivative"
   ]
  },
  {
   "cell_type": "code",
   "execution_count": null,
   "metadata": {
    "collapsed": true
   },
   "outputs": [],
   "source": []
  },
  {
   "cell_type": "code",
   "execution_count": null,
   "metadata": {
    "collapsed": true
   },
   "outputs": [],
   "source": []
  },
  {
   "cell_type": "code",
   "execution_count": null,
   "metadata": {
    "collapsed": true
   },
   "outputs": [],
   "source": []
  },
  {
   "cell_type": "code",
   "execution_count": null,
   "metadata": {
    "collapsed": true
   },
   "outputs": [],
   "source": []
  },
  {
   "cell_type": "code",
   "execution_count": null,
   "metadata": {
    "collapsed": true
   },
   "outputs": [],
   "source": []
  },
  {
   "cell_type": "code",
   "execution_count": null,
   "metadata": {
    "collapsed": true
   },
   "outputs": [],
   "source": []
  }
 ],
 "metadata": {
  "anaconda-cloud": {},
  "kernelspec": {
   "display_name": "Python [conda root]",
   "language": "python",
   "name": "conda-root-py"
  },
  "language_info": {
   "codemirror_mode": {
    "name": "ipython",
    "version": 3
   },
   "file_extension": ".py",
   "mimetype": "text/x-python",
   "name": "python",
   "nbconvert_exporter": "python",
   "pygments_lexer": "ipython3",
   "version": "3.5.2"
  }
 },
 "nbformat": 4,
 "nbformat_minor": 0
}
