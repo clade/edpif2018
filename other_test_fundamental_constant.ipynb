{
 "cells": [
  {
   "cell_type": "code",
   "execution_count": 7,
   "metadata": {
    "collapsed": false
   },
   "outputs": [],
   "source": [
    "import sys\n",
    "sys.path.insert(1, '/home/clade/Bureau/edpif2018/exercice_4_3')\n",
    "sys.path.append('/home/clade/Bureau/edpif2018/exercice_4_3/the_directroty_where_the_package_will_be/')"
   ]
  },
  {
   "cell_type": "code",
   "execution_count": 8,
   "metadata": {
    "collapsed": false
   },
   "outputs": [],
   "source": [
    "from constants.fundamental import epsilon_0, alpha\n",
    "from constants.atomic_mass import rubidium_87\n",
    "from constants import atomic_mass"
   ]
  },
  {
   "cell_type": "code",
   "execution_count": 9,
   "metadata": {
    "collapsed": false
   },
   "outputs": [
    {
     "data": {
      "text/plain": [
       "86.9091805527"
      ]
     },
     "execution_count": 9,
     "metadata": {},
     "output_type": "execute_result"
    }
   ],
   "source": [
    "atomic_mass.rubidium_87"
   ]
  },
  {
   "cell_type": "code",
   "execution_count": 10,
   "metadata": {
    "collapsed": true
   },
   "outputs": [],
   "source": [
    "from constants import c"
   ]
  },
  {
   "cell_type": "code",
   "execution_count": 11,
   "metadata": {
    "collapsed": false
   },
   "outputs": [
    {
     "data": {
      "text/plain": [
       "299792458"
      ]
     },
     "execution_count": 11,
     "metadata": {},
     "output_type": "execute_result"
    }
   ],
   "source": [
    "c"
   ]
  },
  {
   "cell_type": "code",
   "execution_count": 12,
   "metadata": {
    "collapsed": false
   },
   "outputs": [
    {
     "data": {
      "text/plain": [
       "['',\n",
       " '/home/clade/Bureau/edpif2018/exercice_4_3',\n",
       " '/opt/anaconda3/lib/python35.zip',\n",
       " '/opt/anaconda3/lib/python3.5',\n",
       " '/opt/anaconda3/lib/python3.5/plat-linux',\n",
       " '/opt/anaconda3/lib/python3.5/lib-dynload',\n",
       " '/opt/anaconda3/lib/python3.5/site-packages',\n",
       " '/opt/anaconda3/lib/python3.5/site-packages/Sphinx-1.4.6-py3.5.egg',\n",
       " '/opt/anaconda3/lib/python3.5/site-packages/setuptools-27.2.0-py3.5.egg',\n",
       " '/opt/anaconda3/lib/python3.5/site-packages/IPython/extensions',\n",
       " '/home/clade/.ipython',\n",
       " '/home/clade/Bureau/edpif2018/exercice_4_3',\n",
       " '/home/clade/Bureau/edpif2018/exercice_4_3/the_directroty_where_the_package_will_be/',\n",
       " '/home/clade/Bureau/edpif2018/exercice_4_3/the_directroty_where_the_package_will_be/']"
      ]
     },
     "execution_count": 12,
     "metadata": {},
     "output_type": "execute_result"
    }
   ],
   "source": [
    "sys.path"
   ]
  },
  {
   "cell_type": "code",
   "execution_count": null,
   "metadata": {
    "collapsed": true
   },
   "outputs": [],
   "source": []
  }
 ],
 "metadata": {
  "anaconda-cloud": {},
  "kernelspec": {
   "display_name": "Python [conda root]",
   "language": "python",
   "name": "conda-root-py"
  },
  "language_info": {
   "codemirror_mode": {
    "name": "ipython",
    "version": 3
   },
   "file_extension": ".py",
   "mimetype": "text/x-python",
   "name": "python",
   "nbconvert_exporter": "python",
   "pygments_lexer": "ipython3",
   "version": "3.5.2"
  }
 },
 "nbformat": 4,
 "nbformat_minor": 1
}
